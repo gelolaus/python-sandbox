{
 "cells": [
  {
   "cell_type": "code",
   "execution_count": 1,
   "metadata": {},
   "outputs": [],
   "source": [
    "# Import tkinter\n",
    "import tkinter as tk\n",
    "\n",
    "# Create a window\n",
    "window = tk.Tk()\n",
    "\n",
    "# Add a button to the window that is when clicked will show a new window and say \"Hello\" to the user\n",
    "button = tk.Button(\n",
    "    master=window,\n",
    "    text=\"Click me!\",\n",
    "    command=lambda: tk.Label(master=window, text=\"Hello!\").pack()\n",
    ")\n",
    "\n",
    "# Add the button to the window\n",
    "button.pack()\n",
    "\n",
    "# Run the main loop\n",
    "window.mainloop()"
   ]
  },
  {
   "cell_type": "code",
   "execution_count": 2,
   "metadata": {},
   "outputs": [],
   "source": [
    "# Create a window that asks the user about their information then posts the information in a different window\n",
    "# Create a window\n",
    "window = tk.Tk()\n",
    "\n",
    "# Create a function that will create a new window and post the user's information\n",
    "def post_info():\n",
    "    # Create a new window\n",
    "    window2 = tk.Toplevel()\n",
    "    # Create a label that will post the user's name\n",
    "    tk.Label(master=window2, text=f\"Name: {name_entry.get()}\").pack()\n",
    "    # Create a label that will post the user's age\n",
    "    tk.Label(master=window2, text=f\"Age: {age_entry.get()}\").pack()\n",
    "    # Create a label that will post the user's email\n",
    "    tk.Label(master=window2, text=f\"Email: {email_entry.get()}\").pack()\n",
    "\n",
    "# Create a label that will ask the user for their name\n",
    "tk.Label(master=window, text=\"Name:\").pack()\n",
    "# Create an entry that will allow the user to enter their name\n",
    "name_entry = tk.Entry(master=window)\n",
    "# Add the entry to the window\n",
    "name_entry.pack()\n",
    "\n",
    "# Create a label that will ask the user for their age\n",
    "tk.Label(master=window, text=\"Age:\").pack()\n",
    "# Create an entry that will allow the user to enter their age\n",
    "age_entry = tk.Entry(master=window)\n",
    "# Add the entry to the window\n",
    "age_entry.pack()\n",
    "\n",
    "# Create a label that will ask the user for their email\n",
    "tk.Label(master=window, text=\"Email:\").pack()\n",
    "# Create an entry that will allow the user to enter their email\n",
    "email_entry = tk.Entry(master=window)\n",
    "# Add the entry to the window\n",
    "email_entry.pack()\n",
    "\n",
    "# Create a button that will post the user's information\n",
    "button = tk.Button(master=window, text=\"Post\", command=post_info)\n",
    "# Add the button to the window\n",
    "button.pack()\n",
    "\n",
    "# Run the main loop\n",
    "window.mainloop()"
   ]
  }
 ],
 "metadata": {
  "kernelspec": {
   "display_name": "Python 3",
   "language": "python",
   "name": "python3"
  },
  "language_info": {
   "codemirror_mode": {
    "name": "ipython",
    "version": 3
   },
   "file_extension": ".py",
   "mimetype": "text/x-python",
   "name": "python",
   "nbconvert_exporter": "python",
   "pygments_lexer": "ipython3",
   "version": "3.11.2"
  },
  "orig_nbformat": 4
 },
 "nbformat": 4,
 "nbformat_minor": 2
}
